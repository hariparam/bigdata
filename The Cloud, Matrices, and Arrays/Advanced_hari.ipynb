{
 "cells": [
  {
   "cell_type": "code",
   "execution_count": 1,
   "metadata": {
    "collapsed": true
   },
   "outputs": [],
   "source": [
    "from pyspark.sql import SparkSession\n",
    "from pyspark.sql import SQLContext\n",
    "from pyspark.sql.functions import lit\n",
    "from pyspark.sql.types import *\n",
    "import pyspark.sql.functions as F\n",
    "spark = SparkSession.builder.appName('Graphs-HW2').getOrCreate()"
   ]
  },
  {
   "cell_type": "code",
   "execution_count": 2,
   "metadata": {
    "collapsed": true
   },
   "outputs": [],
   "source": [
    "import pandas as pd\n",
    "import numpy as np"
   ]
  },
  {
   "cell_type": "code",
   "execution_count": 3,
   "metadata": {
    "collapsed": true
   },
   "outputs": [],
   "source": [
    "pr = spark.read.load('pr_graph.txt', format=\"text\")"
   ]
  },
  {
   "cell_type": "code",
   "execution_count": 4,
   "metadata": {
    "collapsed": false
   },
   "outputs": [],
   "source": [
    "pr.createOrReplaceTempView('pr_sdf_view')\n",
    "pr_sdf=spark.sql('SELECT CAST(split(value, \" \")[0] AS integer) AS from_node ,CAST(split(value, \" \")[1] AS integer) AS to_node, 0 AS contrib FROM pr_sdf_view')"
   ]
  },
  {
   "cell_type": "code",
   "execution_count": 5,
   "metadata": {
    "collapsed": false
   },
   "outputs": [
    {
     "name": "stdout",
     "output_type": "stream",
     "text": [
      "+---------+-------+-------+-----+\n",
      "|from_node|to_node|contrib|   pg|\n",
      "+---------+-------+-------+-----+\n",
      "|        1|      2|      0|0.001|\n",
      "|        1|      3|      0|0.001|\n",
      "|        1|      4|      0|0.001|\n",
      "|        1|      5|      0|0.001|\n",
      "|        2|      3|      0|0.001|\n",
      "|        2|      5|      0|0.001|\n",
      "|        3|      2|      0|0.001|\n",
      "|        4|      5|      0|0.001|\n",
      "|        5|      1|      0|0.001|\n",
      "|        5|      6|      0|0.001|\n",
      "|        5|      7|      0|0.001|\n",
      "|        6|      7|      0|0.001|\n",
      "|        7|      6|      0|0.001|\n",
      "|        7|      2|      0|0.001|\n",
      "|        7|      7|      0|0.001|\n",
      "|        5|      4|      0|0.001|\n",
      "+---------+-------+-------+-----+\n",
      "\n"
     ]
    }
   ],
   "source": [
    "pr_sdf.withColumn('pg', lit(0.001)).show()"
   ]
  },
  {
   "cell_type": "code",
   "execution_count": 6,
   "metadata": {
    "collapsed": false
   },
   "outputs": [],
   "source": [
    "def pagerank(G,num_iter):\n",
    "    \n",
    "    G.cache()\n",
    "    G.createOrReplaceTempView('g_view')\n",
    "    \n",
    "    #getting the list of all the nodes in the graph and storing them in a nodes data frame\n",
    "    nodes=G.select('from_node').distinct().sort('from_node')\n",
    "    nodes=nodes.union(G.select('to_node').distinct().sort('to_node'))\n",
    "    nodes=nodes.select('from_node').distinct().sort('from_node')\n",
    "    \n",
    "    #calculating the number of nodes to get the intitial page rank\n",
    "    n=nodes.count()\n",
    "    n=float(1)/n\n",
    "    \n",
    "    #defining the user-defined fns\n",
    "    my_fn = F.udf(lambda pg, connects: div(pg,connects), DoubleType())\n",
    "    my_pg = F.udf(lambda x: alpha_beta(x), DoubleType())\n",
    "    \n",
    "    #proportion of weight \n",
    "    p_o_w=pr_sdf.groupBy(\"from_node\").count().withColumnRenamed(\"count\", \"pofw\")\n",
    "    p_o_w.createOrReplaceTempView('p_o_w_view')\n",
    "    q=('SELECT g.from_node,g.to_node,p.pofw AS connects, CAST(' +str(n)+' AS float) AS pg FROM g_view AS g ,p_o_w_view AS p WHERE g.from_node=p.from_node')\n",
    "    g=spark.sql(q)\n",
    "    #print\n",
    "    g.show()\n",
    "    \n",
    "    #datafram that contains the pagerank after every iteration\n",
    "    pgi=nodes.withColumn(\"pg\", lit(0))\n",
    "    #print\n",
    "    pgi.show()\n",
    "    \n",
    "    for i in range(num_iter):\n",
    "        #print(i)\n",
    "        g.cache()\n",
    "        g.show()\n",
    "        \n",
    "        g.createOrReplaceTempView('g_view')\n",
    "        df1= g.select('from_node','to_node',my_fn('pg','connects').alias('page_rank'))\n",
    "        #df1.show()\n",
    "        df1.createOrReplaceTempView('df1_view')\n",
    "        \n",
    "        q1=('SELECT to_node, sum(page_rank) as page_rank from df1_view GROUP BY to_node')\n",
    "        pgi=spark.sql(q1)\n",
    "        pgi=pgi.select('to_node',my_pg('page_rank').alias('pg'))\n",
    "        #pgi.show()\n",
    "        pgi.createOrReplaceTempView('pgi_view')\n",
    "        q=('SELECT g.from_node,g.to_node,g.connects, p.pg FROM g_view g JOIN pgi_view p ON p.to_node=g.from_node')\n",
    "        g=spark.sql(q)\n",
    "        \n",
    "    return pgi\n",
    "        \n",
    "def div(a,b):\n",
    "    return float(a)/b\n",
    "\n",
    "def alpha_beta(x):\n",
    "    alpha=0.85\n",
    "    beta=0.15\n",
    "    return ((alpha*x)+beta)"
   ]
  },
  {
   "cell_type": "markdown",
   "metadata": {},
   "source": [
    "## Step 5"
   ]
  },
  {
   "cell_type": "code",
   "execution_count": 7,
   "metadata": {
    "collapsed": false
   },
   "outputs": [
    {
     "data": {
      "text/plain": [
       "16"
      ]
     },
     "execution_count": 7,
     "metadata": {},
     "output_type": "execute_result"
    }
   ],
   "source": [
    "pr_sdf.count()"
   ]
  },
  {
   "cell_type": "code",
   "execution_count": 8,
   "metadata": {
    "collapsed": false
   },
   "outputs": [
    {
     "name": "stdout",
     "output_type": "stream",
     "text": [
      "+---------+-------+-------+\n",
      "|from_node|to_node|contrib|\n",
      "+---------+-------+-------+\n",
      "|        1|      2|      0|\n",
      "|        1|      3|      0|\n",
      "|        1|      4|      0|\n",
      "|        1|      5|      0|\n",
      "|        2|      3|      0|\n",
      "|        2|      5|      0|\n",
      "|        3|      2|      0|\n",
      "|        4|      5|      0|\n",
      "|        5|      1|      0|\n",
      "|        5|      6|      0|\n",
      "|        5|      7|      0|\n",
      "|        6|      7|      0|\n",
      "|        7|      6|      0|\n",
      "|        7|      2|      0|\n",
      "|        7|      7|      0|\n",
      "|        5|      4|      0|\n",
      "+---------+-------+-------+\n",
      "\n"
     ]
    }
   ],
   "source": [
    "pr_sdf.show()"
   ]
  },
  {
   "cell_type": "code",
   "execution_count": 9,
   "metadata": {
    "collapsed": false,
    "scrolled": false
   },
   "outputs": [
    {
     "name": "stdout",
     "output_type": "stream",
     "text": [
      "+---------+-------+--------+----------+\n",
      "|from_node|to_node|connects|        pg|\n",
      "+---------+-------+--------+----------+\n",
      "|        1|      2|       4|0.14285715|\n",
      "|        1|      3|       4|0.14285715|\n",
      "|        1|      4|       4|0.14285715|\n",
      "|        1|      5|       4|0.14285715|\n",
      "|        2|      3|       2|0.14285715|\n",
      "|        2|      5|       2|0.14285715|\n",
      "|        3|      2|       1|0.14285715|\n",
      "|        4|      5|       1|0.14285715|\n",
      "|        5|      1|       4|0.14285715|\n",
      "|        5|      6|       4|0.14285715|\n",
      "|        5|      7|       4|0.14285715|\n",
      "|        6|      7|       1|0.14285715|\n",
      "|        7|      6|       3|0.14285715|\n",
      "|        7|      2|       3|0.14285715|\n",
      "|        7|      7|       3|0.14285715|\n",
      "|        5|      4|       4|0.14285715|\n",
      "+---------+-------+--------+----------+\n",
      "\n",
      "+---------+---+\n",
      "|from_node| pg|\n",
      "+---------+---+\n",
      "|        1|  0|\n",
      "|        2|  0|\n",
      "|        3|  0|\n",
      "|        4|  0|\n",
      "|        5|  0|\n",
      "|        6|  0|\n",
      "|        7|  0|\n",
      "+---------+---+\n",
      "\n",
      "+---------+-------+--------+----------+\n",
      "|from_node|to_node|connects|        pg|\n",
      "+---------+-------+--------+----------+\n",
      "|        1|      2|       4|0.14285715|\n",
      "|        1|      3|       4|0.14285715|\n",
      "|        1|      4|       4|0.14285715|\n",
      "|        1|      5|       4|0.14285715|\n",
      "|        2|      3|       2|0.14285715|\n",
      "|        2|      5|       2|0.14285715|\n",
      "|        3|      2|       1|0.14285715|\n",
      "|        4|      5|       1|0.14285715|\n",
      "|        5|      1|       4|0.14285715|\n",
      "|        5|      6|       4|0.14285715|\n",
      "|        5|      7|       4|0.14285715|\n",
      "|        6|      7|       1|0.14285715|\n",
      "|        7|      6|       3|0.14285715|\n",
      "|        7|      2|       3|0.14285715|\n",
      "|        7|      7|       3|0.14285715|\n",
      "|        5|      4|       4|0.14285715|\n",
      "+---------+-------+--------+----------+\n",
      "\n",
      "+---------+-------+--------+-------------------+\n",
      "|from_node|to_node|connects|                 pg|\n",
      "+---------+-------+--------+-------------------+\n",
      "|        1|      2|       4| 0.1803571442142129|\n",
      "|        1|      3|       4| 0.1803571442142129|\n",
      "|        1|      4|       4| 0.1803571442142129|\n",
      "|        1|      5|       4| 0.1803571442142129|\n",
      "|        2|      3|       2|0.34226191335668166|\n",
      "|        2|      5|       2|0.34226191335668166|\n",
      "|        3|      2|       1| 0.2410714326426387|\n",
      "|        4|      5|       1|0.21071428842842577|\n",
      "|        5|      1|       4|0.36250000949949024|\n",
      "|        5|      6|       4|0.36250000949949024|\n",
      "|        5|      7|       4|0.36250000949949024|\n",
      "|        6|      7|       1|0.22083333649983009|\n",
      "|        7|      6|       3|0.34226191335668166|\n",
      "|        7|      2|       3|0.34226191335668166|\n",
      "|        7|      7|       3|0.34226191335668166|\n",
      "|        5|      4|       4|0.36250000949949024|\n",
      "+---------+-------+--------+-------------------+\n",
      "\n",
      "+---------+-------+--------+-------------------+\n",
      "|from_node|to_node|connects|                 pg|\n",
      "+---------+-------+--------+-------------------+\n",
      "|        1|      2|       4|0.22703125201864166|\n",
      "|        1|      3|       4|0.22703125201864166|\n",
      "|        1|      4|       4|0.22703125201864166|\n",
      "|        1|      5|       4|0.22703125201864166|\n",
      "|        2|      3|       2| 0.4902108196761562|\n",
      "|        2|      5|       2| 0.4902108196761562|\n",
      "|        3|      2|       1| 0.3337872063221099|\n",
      "|        4|      5|       1| 0.2653571451641619|\n",
      "|        5|      1|       4| 0.5128943514862718|\n",
      "|        5|      6|       4| 0.5128943514862718|\n",
      "|        5|      7|       4| 0.5128943514862718|\n",
      "|        6|      7|       1|0.32400546080303483|\n",
      "|        7|      6|       3| 0.5117137968278903|\n",
      "|        7|      2|       3| 0.5117137968278903|\n",
      "|        7|      7|       3| 0.5117137968278903|\n",
      "|        5|      4|       4| 0.5128943514862718|\n",
      "+---------+-------+--------+-------------------+\n",
      "\n",
      "+---------+-------+--------+-------------------+\n",
      "|from_node|to_node|connects|                 pg|\n",
      "+---------+-------+--------+-------------------+\n",
      "|        1|      2|       4| 0.2589900496908327|\n",
      "|        1|      3|       4| 0.2589900496908327|\n",
      "|        1|      4|       4| 0.2589900496908327|\n",
      "|        1|      5|       4| 0.2589900496908327|\n",
      "|        2|      3|       2|  0.626948842195657|\n",
      "|        2|      5|       2|  0.626948842195657|\n",
      "|        3|      2|       1|0.40658373941632775|\n",
      "|        4|      5|       1| 0.3072341907447941|\n",
      "|        5|      1|       4| 0.6321373128058654|\n",
      "|        5|      6|       4| 0.6321373128058654|\n",
      "|        5|      7|       4| 0.6321373128058654|\n",
      "|        6|      7|       1|  0.403975625458735|\n",
      "|        7|      6|       3| 0.6793802671413146|\n",
      "|        7|      2|       3| 0.6793802671413146|\n",
      "|        7|      7|       3| 0.6793802671413146|\n",
      "|        5|      4|       4| 0.6321373128058654|\n",
      "+---------+-------+--------+-------------------+\n",
      "\n",
      "+---------+-------+--------+------------------+\n",
      "|from_node|to_node|connects|                pg|\n",
      "+---------+-------+--------+------------------+\n",
      "|        1|      2|       4|0.2843291789712464|\n",
      "|        1|      3|       4|0.2843291789712464|\n",
      "|        1|      4|       4|0.2843291789712464|\n",
      "|        1|      5|       4|0.2843291789712464|\n",
      "|        2|      3|       2|0.7431226397532197|\n",
      "|        2|      5|       2|0.7431226397532197|\n",
      "|        3|      2|       1|0.4714886434924561|\n",
      "|        4|      5|       1|0.3393645645305483|\n",
      "|        5|      1|       4|0.7326377056255311|\n",
      "|        5|      6|       4|0.7326377056255311|\n",
      "|        5|      7|       4|0.7326377056255311|\n",
      "|        6|      7|       1|0.4768202546612855|\n",
      "|        7|      6|       3|0.8201995363012103|\n",
      "|        7|      2|       3|0.8201995363012103|\n",
      "|        7|      7|       3|0.8201995363012103|\n",
      "|        5|      4|       4|0.7326377056255311|\n",
      "+---------+-------+--------+------------------+\n",
      "\n",
      "+-------+-------------------+\n",
      "|to_node|                 pg|\n",
      "+-------+-------------------+\n",
      "|      1|0.30568551244542536|\n",
      "|      6| 0.5380753810641016|\n",
      "|      3| 0.5262470724265081|\n",
      "|      5| 0.8147069522774744|\n",
      "|      4| 0.3661054629768152|\n",
      "|      7| 0.9433725975261943|\n",
      "|      2| 0.8435751661186538|\n",
      "+-------+-------------------+\n",
      "\n"
     ]
    }
   ],
   "source": [
    "pagerank(pr_sdf,5).show()"
   ]
  },
  {
   "cell_type": "code",
   "execution_count": 10,
   "metadata": {
    "collapsed": false
   },
   "outputs": [
    {
     "name": "stdout",
     "output_type": "stream",
     "text": [
      "+---------+-------+-------+\n",
      "|from_node|to_node|contrib|\n",
      "+---------+-------+-------+\n",
      "|        1|      2|      0|\n",
      "|        1|      3|      0|\n",
      "|        1|      4|      0|\n",
      "|        1|      5|      0|\n",
      "|        2|      3|      0|\n",
      "|        2|      5|      0|\n",
      "|        3|      2|      0|\n",
      "|        4|      5|      0|\n",
      "|        5|      1|      0|\n",
      "|        5|      6|      0|\n",
      "|        5|      7|      0|\n",
      "|        6|      7|      0|\n",
      "|        7|      6|      0|\n",
      "|        7|      2|      0|\n",
      "|        7|      7|      0|\n",
      "|        5|      4|      0|\n",
      "+---------+-------+-------+\n",
      "\n"
     ]
    }
   ],
   "source": [
    "pr_sdf.show()"
   ]
  },
  {
   "cell_type": "code",
   "execution_count": null,
   "metadata": {
    "collapsed": true
   },
   "outputs": [],
   "source": []
  }
 ],
 "metadata": {
  "kernelspec": {
   "display_name": "Python 3",
   "language": "python",
   "name": "python3"
  },
  "language_info": {
   "codemirror_mode": {
    "name": "ipython",
    "version": 3
   },
   "file_extension": ".py",
   "mimetype": "text/x-python",
   "name": "python",
   "nbconvert_exporter": "python",
   "pygments_lexer": "ipython3",
   "version": "3.5.2"
  }
 },
 "nbformat": 4,
 "nbformat_minor": 2
}
