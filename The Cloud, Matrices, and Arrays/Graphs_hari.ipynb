{
 "cells": [
  {
   "cell_type": "code",
   "execution_count": 1,
   "metadata": {
    "collapsed": false
   },
   "outputs": [],
   "source": [
    "from pyspark.sql import SparkSession\n",
    "from pyspark.sql import SQLContext\n",
    "from pyspark.sql.functions import lit\n",
    "from pyspark.sql.types import *\n",
    "import pyspark.sql.functions as F\n",
    "spark = SparkSession.builder.appName('Graphs-HW2').getOrCreate()"
   ]
  },
  {
   "cell_type": "code",
   "execution_count": 2,
   "metadata": {
    "collapsed": false
   },
   "outputs": [],
   "source": [
    "# Read lines from the text file\n",
    "answers_sdf = spark.read.load('sx-stackoverflow-a2q.txt', format=\"text\")\n",
    "comments_answers_sdf = spark.read.load('sx-stackoverflow-c2a.txt', format=\"text\")\n",
    "comments_questions_sdf = spark.read.load('sx-stackoverflow-c2q.txt', format=\"text\")"
   ]
  },
  {
   "cell_type": "markdown",
   "metadata": {},
   "source": [
    "## Step 2.2"
   ]
  },
  {
   "cell_type": "code",
   "execution_count": 3,
   "metadata": {
    "collapsed": false
   },
   "outputs": [
    {
     "data": {
      "text/plain": [
       "17823525"
      ]
     },
     "execution_count": 3,
     "metadata": {},
     "output_type": "execute_result"
    }
   ],
   "source": [
    "answers_sdf.count()"
   ]
  },
  {
   "cell_type": "code",
   "execution_count": 4,
   "metadata": {
    "collapsed": false
   },
   "outputs": [
    {
     "name": "stdout",
     "output_type": "stream",
     "text": [
      "+----------------+\n",
      "|           value|\n",
      "+----------------+\n",
      "|  9 8 1217567877|\n",
      "|  1 1 1217573801|\n",
      "| 13 1 1217606247|\n",
      "| 17 1 1217617639|\n",
      "| 48 2 1217618182|\n",
      "| 17 1 1217618239|\n",
      "| 19 9 1217618357|\n",
      "|13 23 1217618560|\n",
      "|13 11 1217618799|\n",
      "|23 23 1217619360|\n",
      "+----------------+\n",
      "only showing top 10 rows\n",
      "\n"
     ]
    }
   ],
   "source": [
    "answers_sdf.show(10)"
   ]
  },
  {
   "cell_type": "code",
   "execution_count": 5,
   "metadata": {
    "collapsed": false
   },
   "outputs": [
    {
     "name": "stdout",
     "output_type": "stream",
     "text": [
      "root\n",
      " |-- value: string (nullable = true)\n",
      "\n"
     ]
    }
   ],
   "source": [
    "answers_sdf.printSchema()"
   ]
  },
  {
   "cell_type": "code",
   "execution_count": 6,
   "metadata": {
    "collapsed": false
   },
   "outputs": [
    {
     "data": {
      "text/plain": [
       "25405374"
      ]
     },
     "execution_count": 6,
     "metadata": {},
     "output_type": "execute_result"
    }
   ],
   "source": [
    "comments_answers_sdf.count()"
   ]
  },
  {
   "cell_type": "code",
   "execution_count": 7,
   "metadata": {
    "collapsed": false
   },
   "outputs": [
    {
     "name": "stdout",
     "output_type": "stream",
     "text": [
      "+--------------------+\n",
      "|               value|\n",
      "+--------------------+\n",
      "|     1 91 1220713630|\n",
      "|     3 91 1220713792|\n",
      "|  380 350 1220715736|\n",
      "|4642 2257 1220734307|\n",
      "|4642 1324220 1220...|\n",
      "|2495 4285 1220736640|\n",
      "|4642 4893 1220737355|\n",
      "|2515 4903 1220738560|\n",
      "|2515 4893 1220739071|\n",
      "|  199 199 1220741079|\n",
      "+--------------------+\n",
      "only showing top 10 rows\n",
      "\n"
     ]
    }
   ],
   "source": [
    "comments_answers_sdf.show(10)"
   ]
  },
  {
   "cell_type": "code",
   "execution_count": 8,
   "metadata": {
    "collapsed": false
   },
   "outputs": [
    {
     "name": "stdout",
     "output_type": "stream",
     "text": [
      "root\n",
      " |-- value: string (nullable = true)\n",
      "\n"
     ]
    }
   ],
   "source": [
    "comments_answers_sdf.printSchema()"
   ]
  },
  {
   "cell_type": "code",
   "execution_count": 9,
   "metadata": {
    "collapsed": false
   },
   "outputs": [
    {
     "data": {
      "text/plain": [
       "20268151"
      ]
     },
     "execution_count": 9,
     "metadata": {},
     "output_type": "execute_result"
    }
   ],
   "source": [
    "comments_questions_sdf.count()"
   ]
  },
  {
   "cell_type": "code",
   "execution_count": 10,
   "metadata": {
    "collapsed": false
   },
   "outputs": [
    {
     "name": "stdout",
     "output_type": "stream",
     "text": [
      "+--------------------+\n",
      "|               value|\n",
      "+--------------------+\n",
      "|4550 4550 1220729190|\n",
      "|  242 184 1220733503|\n",
      "|4213 4946 1220768149|\n",
      "|    91 91 1220768295|\n",
      "|2658 1874 1220771891|\n",
      "|4035 1874 1220773037|\n",
      "|2257 4489 1220802041|\n",
      "|  577 577 1220834891|\n",
      "|4489 4489 1220853536|\n",
      "| 828 2783 1220854143|\n",
      "+--------------------+\n",
      "only showing top 10 rows\n",
      "\n"
     ]
    }
   ],
   "source": [
    "comments_questions_sdf.show(10)"
   ]
  },
  {
   "cell_type": "code",
   "execution_count": 11,
   "metadata": {
    "collapsed": false
   },
   "outputs": [
    {
     "name": "stdout",
     "output_type": "stream",
     "text": [
      "root\n",
      " |-- value: string (nullable = true)\n",
      "\n"
     ]
    }
   ],
   "source": [
    "comments_questions_sdf.printSchema()"
   ]
  },
  {
   "cell_type": "code",
   "execution_count": 12,
   "metadata": {
    "collapsed": false
   },
   "outputs": [],
   "source": [
    "answers_sdf.createOrReplaceTempView('answers_sdf_view')\n",
    "answers_sdf=spark.sql('SELECT CAST(split(value, \" \")[0] AS integer) AS from_node ,CAST(split(value, \" \")[1] AS integer) AS to_node , FROM_UNIXTIME(split(value, \" \")[2]) AS time_stamp,\"answer\" AS edge_type FROM answers_sdf_view')\n",
    "\n",
    "comments_answers_sdf.createOrReplaceTempView('comments_answers_sdf_view')\n",
    "comments_answers_sdf=spark.sql('SELECT CAST(split(value, \" \")[0] AS integer) AS from_node ,CAST(split(value, \" \")[1] AS integer) AS to_node , FROM_UNIXTIME(split(value, \" \")[2]) AS time_stamp,\"comment-on-answer\" AS edge_type FROM comments_answers_sdf_view')\n",
    "\n",
    "comments_questions_sdf.createOrReplaceTempView('comments_questions_sdf_view')\n",
    "comments_questions_sdf=spark.sql('SELECT CAST(split(value, \" \")[0] AS integer) AS from_node ,CAST(split(value, \" \")[1] AS integer) AS to_node , FROM_UNIXTIME((split(value, \" \")[2])) AS time_stamp, \"comment-on-question\" AS edge_type FROM comments_questions_sdf_view')"
   ]
  },
  {
   "cell_type": "code",
   "execution_count": 13,
   "metadata": {
    "collapsed": false
   },
   "outputs": [
    {
     "data": {
      "text/plain": [
       "63497050"
      ]
     },
     "execution_count": 13,
     "metadata": {},
     "output_type": "execute_result"
    }
   ],
   "source": [
    "#graph_sdf=spark.sql('SELECT CAST(split(value, \" \")[0] AS integer) AS from_node ,CAST(split(value, \" \")[1] AS integer) AS to_node , CAST(split(value, \" \")[2] AS string) AS from_unixtime,\"answer\" AS edge_type FROM answers_sdf_view')\n",
    "#graph_sdf.unionAll(comments_answers_sdf).unionAll(comments_questions_sdf)\n",
    "graph_sdf=answers_sdf.union(comments_answers_sdf).union(comments_questions_sdf)\n",
    "graph_sdf.count()"
   ]
  },
  {
   "cell_type": "markdown",
   "metadata": {},
   "source": [
    "## Step 2.3"
   ]
  },
  {
   "cell_type": "code",
   "execution_count": 14,
   "metadata": {
    "collapsed": false
   },
   "outputs": [
    {
     "data": {
      "text/plain": [
       "17823525"
      ]
     },
     "execution_count": 14,
     "metadata": {},
     "output_type": "execute_result"
    }
   ],
   "source": [
    "answers_sdf.count()"
   ]
  },
  {
   "cell_type": "code",
   "execution_count": 15,
   "metadata": {
    "collapsed": false
   },
   "outputs": [
    {
     "name": "stdout",
     "output_type": "stream",
     "text": [
      "+---------+-------+-------------------+---------+\n",
      "|from_node|to_node|         time_stamp|edge_type|\n",
      "+---------+-------+-------------------+---------+\n",
      "|        9|      8|2008-08-01 05:17:57|   answer|\n",
      "|        1|      1|2008-08-01 06:56:41|   answer|\n",
      "|       13|      1|2008-08-01 15:57:27|   answer|\n",
      "|       17|      1|2008-08-01 19:07:19|   answer|\n",
      "|       48|      2|2008-08-01 19:16:22|   answer|\n",
      "+---------+-------+-------------------+---------+\n",
      "only showing top 5 rows\n",
      "\n"
     ]
    }
   ],
   "source": [
    "answers_sdf.show(5)"
   ]
  },
  {
   "cell_type": "code",
   "execution_count": 16,
   "metadata": {
    "collapsed": false
   },
   "outputs": [
    {
     "name": "stdout",
     "output_type": "stream",
     "text": [
      "root\n",
      " |-- from_node: integer (nullable = true)\n",
      " |-- to_node: integer (nullable = true)\n",
      " |-- time_stamp: string (nullable = true)\n",
      " |-- edge_type: string (nullable = false)\n",
      "\n"
     ]
    }
   ],
   "source": [
    "answers_sdf.printSchema()"
   ]
  },
  {
   "cell_type": "code",
   "execution_count": 17,
   "metadata": {
    "collapsed": false
   },
   "outputs": [
    {
     "data": {
      "text/plain": [
       "25405374"
      ]
     },
     "execution_count": 17,
     "metadata": {},
     "output_type": "execute_result"
    }
   ],
   "source": [
    "comments_answers_sdf.count()"
   ]
  },
  {
   "cell_type": "code",
   "execution_count": 18,
   "metadata": {
    "collapsed": false
   },
   "outputs": [
    {
     "name": "stdout",
     "output_type": "stream",
     "text": [
      "+---------+-------+-------------------+-----------------+\n",
      "|from_node|to_node|         time_stamp|        edge_type|\n",
      "+---------+-------+-------------------+-----------------+\n",
      "|        1|     91|2008-09-06 15:07:10|comment-on-answer|\n",
      "|        3|     91|2008-09-06 15:09:52|comment-on-answer|\n",
      "|      380|    350|2008-09-06 15:42:16|comment-on-answer|\n",
      "|     4642|   2257|2008-09-06 20:51:47|comment-on-answer|\n",
      "|     4642|1324220|2008-09-06 21:15:46|comment-on-answer|\n",
      "+---------+-------+-------------------+-----------------+\n",
      "only showing top 5 rows\n",
      "\n"
     ]
    }
   ],
   "source": [
    "comments_answers_sdf.show(5)"
   ]
  },
  {
   "cell_type": "code",
   "execution_count": 19,
   "metadata": {
    "collapsed": false
   },
   "outputs": [
    {
     "name": "stdout",
     "output_type": "stream",
     "text": [
      "root\n",
      " |-- from_node: integer (nullable = true)\n",
      " |-- to_node: integer (nullable = true)\n",
      " |-- time_stamp: string (nullable = true)\n",
      " |-- edge_type: string (nullable = false)\n",
      "\n"
     ]
    }
   ],
   "source": [
    "comments_answers_sdf.printSchema()"
   ]
  },
  {
   "cell_type": "code",
   "execution_count": 20,
   "metadata": {
    "collapsed": false
   },
   "outputs": [
    {
     "data": {
      "text/plain": [
       "20268151"
      ]
     },
     "execution_count": 20,
     "metadata": {},
     "output_type": "execute_result"
    }
   ],
   "source": [
    "comments_questions_sdf.count()"
   ]
  },
  {
   "cell_type": "code",
   "execution_count": 21,
   "metadata": {
    "collapsed": false
   },
   "outputs": [
    {
     "name": "stdout",
     "output_type": "stream",
     "text": [
      "+---------+-------+-------------------+-------------------+\n",
      "|from_node|to_node|         time_stamp|          edge_type|\n",
      "+---------+-------+-------------------+-------------------+\n",
      "|     4550|   4550|2008-09-06 19:26:30|comment-on-question|\n",
      "|      242|    184|2008-09-06 20:38:23|comment-on-question|\n",
      "|     4213|   4946|2008-09-07 06:15:49|comment-on-question|\n",
      "|       91|     91|2008-09-07 06:18:15|comment-on-question|\n",
      "|     2658|   1874|2008-09-07 07:18:11|comment-on-question|\n",
      "+---------+-------+-------------------+-------------------+\n",
      "only showing top 5 rows\n",
      "\n"
     ]
    }
   ],
   "source": [
    "comments_questions_sdf.show(5)"
   ]
  },
  {
   "cell_type": "code",
   "execution_count": 22,
   "metadata": {
    "collapsed": false
   },
   "outputs": [
    {
     "name": "stdout",
     "output_type": "stream",
     "text": [
      "root\n",
      " |-- from_node: integer (nullable = true)\n",
      " |-- to_node: integer (nullable = true)\n",
      " |-- time_stamp: string (nullable = true)\n",
      " |-- edge_type: string (nullable = false)\n",
      "\n"
     ]
    }
   ],
   "source": [
    "comments_questions_sdf.printSchema()"
   ]
  },
  {
   "cell_type": "code",
   "execution_count": 23,
   "metadata": {
    "collapsed": false
   },
   "outputs": [
    {
     "data": {
      "text/plain": [
       "63497050"
      ]
     },
     "execution_count": 23,
     "metadata": {},
     "output_type": "execute_result"
    }
   ],
   "source": [
    "graph_sdf.count()"
   ]
  },
  {
   "cell_type": "code",
   "execution_count": 24,
   "metadata": {
    "collapsed": false
   },
   "outputs": [
    {
     "name": "stdout",
     "output_type": "stream",
     "text": [
      "+---------+-------+-------------------+---------+\n",
      "|from_node|to_node|         time_stamp|edge_type|\n",
      "+---------+-------+-------------------+---------+\n",
      "|        9|      8|2008-08-01 05:17:57|   answer|\n",
      "|        1|      1|2008-08-01 06:56:41|   answer|\n",
      "|       13|      1|2008-08-01 15:57:27|   answer|\n",
      "|       17|      1|2008-08-01 19:07:19|   answer|\n",
      "|       48|      2|2008-08-01 19:16:22|   answer|\n",
      "+---------+-------+-------------------+---------+\n",
      "only showing top 5 rows\n",
      "\n"
     ]
    }
   ],
   "source": [
    "graph_sdf.show(5)"
   ]
  },
  {
   "cell_type": "code",
   "execution_count": 25,
   "metadata": {
    "collapsed": false
   },
   "outputs": [
    {
     "name": "stdout",
     "output_type": "stream",
     "text": [
      "root\n",
      " |-- from_node: integer (nullable = true)\n",
      " |-- to_node: integer (nullable = true)\n",
      " |-- time_stamp: string (nullable = true)\n",
      " |-- edge_type: string (nullable = false)\n",
      "\n"
     ]
    }
   ],
   "source": [
    "graph_sdf.printSchema()"
   ]
  },
  {
   "cell_type": "markdown",
   "metadata": {},
   "source": [
    "## Step 3"
   ]
  },
  {
   "cell_type": "code",
   "execution_count": 26,
   "metadata": {
    "collapsed": false
   },
   "outputs": [
    {
     "name": "stdout",
     "output_type": "stream",
     "text": [
      "+-------+--------+\n",
      "|to_node|indegree|\n",
      "+-------+--------+\n",
      "|  22656|   93143|\n",
      "| 548225|   54410|\n",
      "|  29407|   45824|\n",
      "| 157882|   39576|\n",
      "|1144035|   38909|\n",
      "+-------+--------+\n",
      "\n"
     ]
    }
   ],
   "source": [
    "graph_sdf.createOrReplaceTempView('graph_sdf_view')\n",
    "X=spark.sql('SELECT to_node, COUNT(*) AS indegree FROM graph_sdf_view GROUP BY to_node ORDER BY COUNT(*) DESC LIMIT 5')\n",
    "X.show()"
   ]
  },
  {
   "cell_type": "code",
   "execution_count": 27,
   "metadata": {
    "collapsed": false,
    "scrolled": false
   },
   "outputs": [
    {
     "name": "stdout",
     "output_type": "stream",
     "text": [
      "+---------+---------+\n",
      "|from_node|outdegree|\n",
      "+---------+---------+\n",
      "|    22656|   101663|\n",
      "|   505088|    65522|\n",
      "|    17034|    65260|\n",
      "|  1491895|    62746|\n",
      "|   100297|    54330|\n",
      "+---------+---------+\n",
      "\n"
     ]
    }
   ],
   "source": [
    "graph_sdf.createOrReplaceTempView('graph_sdf_view')\n",
    "Y=spark.sql('SELECT from_node, COUNT(*) AS outdegree FROM graph_sdf_view GROUP BY from_node ORDER BY COUNT(*) DESC LIMIT 5')\n",
    "Y.show()"
   ]
  },
  {
   "cell_type": "code",
   "execution_count": 51,
   "metadata": {
    "collapsed": false
   },
   "outputs": [],
   "source": [
    "def spark_bfs(G, origins, max_depth):\n",
    "    schema = StructType([StructField(\"node\", IntegerType(), True),StructField(\"depth\", IntegerType(), True)])\n",
    "    frontier = spark.createDataFrame(origins, schema)\n",
    "    visited= spark.createDataFrame(origins, schema).fillna(0)\n",
    "    G.repartition(100, 'from_node')\n",
    "    G.cache()\n",
    "    for i in range(max_depth):\n",
    "        #print (i,frontier.count(),visited.count())\n",
    "        next_nodes=get_nodes(G,frontier, visited, i+1)\n",
    "        #print (next_nodes.count())\n",
    "        if i>0:\n",
    "            visited=visited.unionAll(frontier)\n",
    "        frontier=next_nodes\n",
    "        frontier.cache()\n",
    "        visited.cache()\n",
    "#     visited=visited.distinct()\n",
    "    visited=visited.unionAll(next_nodes)\n",
    "    return visited"
   ]
  },
  {
   "cell_type": "code",
   "execution_count": 52,
   "metadata": {
    "collapsed": false
   },
   "outputs": [],
   "source": [
    "def get_nodes(G,curr_nodes, visited, depth):\n",
    "    G.createOrReplaceTempView('graph_sdf_view')\n",
    "    curr_nodes.createOrReplaceTempView('frontier_sdf_view')\n",
    "    visited.createOrReplaceTempView('visited_sdf_view')\n",
    "    connected_nodes=('SELECT g.to_node as node, CAST(' +str(depth)+ ' AS int )as depth FROM graph_sdf_view AS g INNER JOIN frontier_sdf_view AS f ON f.node=g.from_node')\n",
    "    next_nodes=spark.sql(connected_nodes)\n",
    "    next_nodes.createOrReplaceTempView('next_nodes_sdf_view')\n",
    "    remove_frontier=('SELECT n.node, n.depth FROM next_nodes_sdf_view n LEFT JOIN frontier_sdf_view v ON v.node=n.node WHERE v.node IS NULL')\n",
    "    next_nodes=spark.sql(remove_frontier)\n",
    "    next_nodes.createOrReplaceTempView('next_nodes_sdf_view')\n",
    "    remove_visited=('SELECT n.node, n.depth FROM next_nodes_sdf_view n LEFT JOIN visited_sdf_view v ON v.node=n.node WHERE v.node IS NULL')\n",
    "    hop_nodes=spark.sql(remove_visited)\n",
    "    return hop_nodes"
   ]
  },
  {
   "cell_type": "markdown",
   "metadata": {},
   "source": [
    "## Step 4.1"
   ]
  },
  {
   "cell_type": "code",
   "execution_count": 53,
   "metadata": {
    "collapsed": false
   },
   "outputs": [],
   "source": [
    "bfs_sdf=spark_bfs(comments_questions_sdf, [{'node': 4550}, {'node': 242}], 2)"
   ]
  },
  {
   "cell_type": "code",
   "execution_count": 54,
   "metadata": {
    "collapsed": false,
    "scrolled": true
   },
   "outputs": [
    {
     "data": {
      "text/plain": [
       "397"
      ]
     },
     "execution_count": 54,
     "metadata": {},
     "output_type": "execute_result"
    }
   ],
   "source": [
    "bfs_sdf.count()"
   ]
  },
  {
   "cell_type": "code",
   "execution_count": 55,
   "metadata": {
    "collapsed": false
   },
   "outputs": [
    {
     "data": {
      "text/plain": [
       "28"
      ]
     },
     "execution_count": 55,
     "metadata": {},
     "output_type": "execute_result"
    }
   ],
   "source": [
    "bfs_sdf[bfs_sdf.depth == 1 ].count()"
   ]
  },
  {
   "cell_type": "code",
   "execution_count": 56,
   "metadata": {
    "collapsed": false
   },
   "outputs": [],
   "source": [
    "bfs_sdf.createOrReplaceTempView('bfs_sdf_view')\n",
    "get_nodes=('SELECT node,depth from bfs_sdf_view WHERE depth=2 GROUP BY node,depth HAVING count(*)>1')\n",
    "filtered_bfs_sdf=spark.sql(get_nodes)"
   ]
  },
  {
   "cell_type": "code",
   "execution_count": 57,
   "metadata": {
    "collapsed": false
   },
   "outputs": [
    {
     "data": {
      "text/plain": [
       "43"
      ]
     },
     "execution_count": 57,
     "metadata": {},
     "output_type": "execute_result"
    }
   ],
   "source": [
    "filtered_bfs_sdf.count()"
   ]
  },
  {
   "cell_type": "code",
   "execution_count": 58,
   "metadata": {
    "collapsed": true
   },
   "outputs": [],
   "source": [
    "def friend_rec (filtered_bfs_sdf , graph_sdf):\n",
    "    graph_sdf.cache()\n",
    "    filtered_bfs_sdf.createOrReplaceTempView('filtered_bfs_sdf_view')\n",
    "    combinations=('SELECT f1.node as n1,f2.node as n2 FROM filtered_bfs_sdf_view f1 INNER JOIN filtered_bfs_sdf_view f2 ON f1.depth=f2.depth WHERE f1.node<>f2.node')\n",
    "    temp=spark.sql(combinations)\n",
    "    A=graph_sdf.select('from_node','to_node')\n",
    "    B=graph_sdf.select('to_node','from_node')\n",
    "    temp=temp.subtract(A)\n",
    "    temp=temp.subtract(B)\n",
    "    return temp"
   ]
  },
  {
   "cell_type": "markdown",
   "metadata": {
    "collapsed": true
   },
   "source": [
    "## Step 4.2"
   ]
  },
  {
   "cell_type": "code",
   "execution_count": 36,
   "metadata": {
    "collapsed": true
   },
   "outputs": [],
   "source": [
    "recommendations=friend_rec (filtered_bfs_sdf , comments_questions_sdf)"
   ]
  },
  {
   "cell_type": "code",
   "execution_count": 37,
   "metadata": {
    "collapsed": false,
    "scrolled": true
   },
   "outputs": [
    {
     "data": {
      "text/plain": [
       "1804"
      ]
     },
     "execution_count": 37,
     "metadata": {},
     "output_type": "execute_result"
    }
   ],
   "source": [
    "recommendations.count()"
   ]
  },
  {
   "cell_type": "code",
   "execution_count": 38,
   "metadata": {
    "collapsed": false
   },
   "outputs": [
    {
     "name": "stdout",
     "output_type": "stream",
     "text": [
      "+-------+-------+\n",
      "|     n1|     n2|\n",
      "+-------+-------+\n",
      "|  21918| 453447|\n",
      "|  21918|4204628|\n",
      "|  46646| 267679|\n",
      "|  59017|1187554|\n",
      "| 104015|  55503|\n",
      "| 211452|  59017|\n",
      "| 503032|2269511|\n",
      "|1406214| 503032|\n",
      "|2269511|  21918|\n",
      "|3830157| 132640|\n",
      "|4204628|  47550|\n",
      "|  46646|1127460|\n",
      "|  55503| 104015|\n",
      "|  60602|1187554|\n",
      "| 267679|1061543|\n",
      "| 393268| 318811|\n",
      "|1218595|1187554|\n",
      "|1218595|4800193|\n",
      "|  27483|  46646|\n",
      "|  63775|  46646|\n",
      "+-------+-------+\n",
      "only showing top 20 rows\n",
      "\n"
     ]
    }
   ],
   "source": [
    "recommendations.show()"
   ]
  }
 ],
 "metadata": {
  "kernelspec": {
   "display_name": "Python 3",
   "language": "python",
   "name": "python3"
  },
  "language_info": {
   "codemirror_mode": {
    "name": "ipython",
    "version": 3
   },
   "file_extension": ".py",
   "mimetype": "text/x-python",
   "name": "python",
   "nbconvert_exporter": "python",
   "pygments_lexer": "ipython3",
   "version": "3.5.2"
  }
 },
 "nbformat": 4,
 "nbformat_minor": 1
}
