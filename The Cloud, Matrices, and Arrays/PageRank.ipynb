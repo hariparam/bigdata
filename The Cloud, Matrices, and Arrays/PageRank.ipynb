{
 "cells": [
  {
   "cell_type": "code",
   "execution_count": 1,
   "metadata": {
    "collapsed": false,
    "deletable": true,
    "editable": true
   },
   "outputs": [
    {
     "name": "stdout",
     "output_type": "stream",
     "text": [
      "Downloading compressed image of web-NotreDame.txt\n",
      "Saved web-NotreDame.txt\n"
     ]
    }
   ],
   "source": [
    "# Download and decompress data into your Jupyter environment\n",
    "\n",
    "import urllib.request\n",
    "import io\n",
    "import gzip\n",
    "import pandas as pd\n",
    "\n",
    "\n",
    "# for file in ['sx-stackoverflow-a2q.txt','sx-stackoverflow-c2q.txt','sx-stackoverflow-c2a.txt']:\n",
    "file= 'web-NotreDame.txt'\n",
    "print ('Downloading compressed image of', file)\n",
    "source = urllib.request.urlopen(\"https://snap.stanford.edu/data/\" + file + \".gz\")\n",
    "compressedFile = io.BytesIO(source.read())\n",
    "decompressedFile = gzip.GzipFile(fileobj=compressedFile)\n",
    "\n",
    "with open(file, 'wb') as outfile:\n",
    "    outfile.write(decompressedFile.read())\n",
    "    outfile.close()\n",
    "    print ('Saved', file)\n"
   ]
  },
  {
   "cell_type": "code",
   "execution_count": 11,
   "metadata": {
    "collapsed": false,
    "deletable": true,
    "editable": true
   },
   "outputs": [],
   "source": [
    "NotreDame_df=pd.read_csv('web-NotreDame.txt',sep='\\t',skiprows=(0,1,2,3), names=('from_node','to_node'))\n",
    "\n",
    "NotreDame_df=NotreDame_df[(NotreDame_df.from_node<10000) & (NotreDame_df.to_node<10000)]\n",
    "\n",
    "l_t=NotreDame_df.groupby('from_node').count().reset_index()\n",
    "\n",
    "X=l_t.set_index('from_node').to_dict()\n",
    "X=X['to_node']"
   ]
  },
  {
   "cell_type": "code",
   "execution_count": 100,
   "metadata": {
    "collapsed": false,
    "deletable": true,
    "editable": true
   },
   "outputs": [],
   "source": [
    "#computing the weight transfer matrix\n",
    "wtm=pd.np.zeros((10000, 10000))\n",
    "for index, row in NotreDame_df.iterrows():\n",
    "    wtm[row.to_node][row.from_node]=1.0/X[row.from_node]"
   ]
  },
  {
   "cell_type": "code",
   "execution_count": 115,
   "metadata": {
    "collapsed": false,
    "deletable": true,
    "editable": true
   },
   "outputs": [],
   "source": [
    "#Computing the page rank\n",
    "def pagerank(W,alpha,num_iter):\n",
    "    \n",
    "    #initializing the pgranks to 1s\n",
    "    pg=pd.np.ones(shape=(10000))\n",
    "    pgi=pd.np.zeros((10000))\n",
    "    \n",
    "    for i in range(num_iter):\n",
    "        pgi=W@pg\n",
    "        pg=(alpha*pgi)+(1-alpha)\n",
    "    \n",
    "    pg_df= pd.DataFrame(pg, columns=['p_rank'])\n",
    "    pg_df.index.name='id'\n",
    "    pg_df=pg_df.reset_index()\n",
    "    pg_10=pg_df.sort_values(by=['p_rank'], ascending=[0])\n",
    "    return pg_10.iloc[0:9]"
   ]
  },
  {
   "cell_type": "markdown",
   "metadata": {
    "deletable": true,
    "editable": true
   },
   "source": [
    "## Step 3.3"
   ]
  },
  {
   "cell_type": "code",
   "execution_count": 101,
   "metadata": {
    "collapsed": false,
    "deletable": true,
    "editable": true
   },
   "outputs": [
    {
     "data": {
      "text/plain": [
       "array([[ 0.        ,  0.        ,  0.        ,  0.        ,  0.        ,\n",
       "         0.        ,  0.        ,  0.        ,  0.        ,  0.        ,\n",
       "         0.        ,  0.        ,  0.        ,  0.        ,  0.        ,\n",
       "         0.        ,  0.        ,  0.        ,  0.        ,  0.        ],\n",
       "       [ 0.        ,  0.        ,  0.        ,  0.        ,  0.        ,\n",
       "         0.        ,  0.        ,  0.        ,  0.        ,  0.        ,\n",
       "         0.        ,  0.        ,  0.        ,  0.        ,  0.        ,\n",
       "         0.        ,  0.        ,  0.        ,  0.        ,  0.        ],\n",
       "       [ 0.        ,  0.        ,  0.        ,  0.        ,  0.        ,\n",
       "         0.        ,  0.        ,  0.        ,  0.        ,  0.        ,\n",
       "         0.        ,  0.        ,  0.        ,  0.        ,  0.        ,\n",
       "         0.        ,  0.        ,  0.        ,  0.        ,  0.        ],\n",
       "       [ 0.        ,  0.        ,  0.        ,  0.        ,  0.        ,\n",
       "         0.        ,  0.        ,  0.        ,  0.        ,  0.        ,\n",
       "         0.        ,  0.        ,  0.        ,  0.        ,  0.        ,\n",
       "         0.        ,  0.        ,  0.        ,  0.        ,  0.        ],\n",
       "       [ 0.01298701,  0.01818182,  0.        ,  0.        ,  0.        ,\n",
       "         0.        ,  0.        ,  0.        ,  0.        ,  0.        ,\n",
       "         0.        ,  0.        ,  0.        ,  0.        ,  0.        ,\n",
       "         0.        ,  0.        ,  0.        ,  0.        ,  0.        ],\n",
       "       [ 0.01298701,  0.        ,  0.        ,  0.        ,  0.        ,\n",
       "         0.        ,  0.        ,  0.        ,  0.        ,  0.        ,\n",
       "         0.        ,  0.        ,  0.        ,  0.        ,  0.        ,\n",
       "         0.        ,  0.        ,  0.        ,  0.        ,  0.        ],\n",
       "       [ 0.01298701,  0.        ,  0.        ,  0.        ,  0.        ,\n",
       "         0.        ,  0.        ,  0.        ,  0.        ,  0.        ,\n",
       "         0.        ,  0.        ,  0.        ,  0.        ,  0.        ,\n",
       "         0.        ,  0.        ,  0.        ,  0.        ,  0.        ],\n",
       "       [ 0.        ,  0.        ,  0.        ,  0.        ,  0.        ,\n",
       "         0.        ,  0.        ,  0.        ,  0.        ,  0.0106383 ,\n",
       "         0.00414938,  0.        ,  0.        ,  0.07142857,  0.07142857,\n",
       "         0.03846154,  0.09090909,  0.07692308,  0.        ,  0.        ],\n",
       "       [ 0.        ,  0.        ,  0.        ,  0.        ,  0.        ,\n",
       "         0.        ,  0.        ,  0.        ,  0.        ,  0.        ,\n",
       "         0.        ,  0.        ,  0.        ,  0.        ,  0.        ,\n",
       "         0.        ,  0.        ,  0.        ,  0.        ,  0.        ],\n",
       "       [ 0.        ,  0.        ,  0.        ,  0.        ,  0.        ,\n",
       "         0.        ,  0.        ,  0.        ,  0.        ,  0.0106383 ,\n",
       "         0.00414938,  0.        ,  0.        ,  0.07142857,  0.07142857,\n",
       "         0.03846154,  0.09090909,  0.07692308,  0.        ,  0.        ],\n",
       "       [ 0.        ,  0.        ,  0.        ,  0.        ,  0.        ,\n",
       "         0.        ,  0.        ,  0.        ,  0.        ,  0.0106383 ,\n",
       "         0.00414938,  0.        ,  0.        ,  0.07142857,  0.07142857,\n",
       "         0.03846154,  0.09090909,  0.07692308,  0.        ,  0.        ],\n",
       "       [ 0.        ,  0.        ,  0.        ,  0.        ,  0.        ,\n",
       "         0.        ,  0.        ,  0.        ,  0.        ,  0.0106383 ,\n",
       "         0.00414938,  0.08333333,  0.        ,  0.07142857,  0.07142857,\n",
       "         0.03846154,  0.09090909,  0.07692308,  0.        ,  0.        ],\n",
       "       [ 0.        ,  0.        ,  0.        ,  0.        ,  0.        ,\n",
       "         0.        ,  0.        ,  0.        ,  0.        ,  0.        ,\n",
       "         0.        ,  0.        ,  0.        ,  0.        ,  0.        ,\n",
       "         0.        ,  0.        ,  0.        ,  0.        ,  0.        ],\n",
       "       [ 0.        ,  0.        ,  0.        ,  0.        ,  0.        ,\n",
       "         0.        ,  0.        ,  0.        ,  0.        ,  0.0106383 ,\n",
       "         0.00414938,  0.        ,  0.        ,  0.07142857,  0.07142857,\n",
       "         0.03846154,  0.09090909,  0.07692308,  0.        ,  0.        ],\n",
       "       [ 0.        ,  0.        ,  0.        ,  0.        ,  0.        ,\n",
       "         0.        ,  0.        ,  0.        ,  0.        ,  0.0106383 ,\n",
       "         0.00414938,  0.        ,  0.        ,  0.07142857,  0.07142857,\n",
       "         0.03846154,  0.09090909,  0.07692308,  0.        ,  0.        ],\n",
       "       [ 0.        ,  0.        ,  0.        ,  0.        ,  0.        ,\n",
       "         0.        ,  0.        ,  0.        ,  0.        ,  0.0106383 ,\n",
       "         0.00414938,  0.        ,  0.        ,  0.07142857,  0.07142857,\n",
       "         0.03846154,  0.09090909,  0.07692308,  0.        ,  0.        ],\n",
       "       [ 0.        ,  0.        ,  0.        ,  0.        ,  0.        ,\n",
       "         0.        ,  0.        ,  0.        ,  0.        ,  0.        ,\n",
       "         0.        ,  0.        ,  0.        ,  0.        ,  0.        ,\n",
       "         0.        ,  0.        ,  0.        ,  0.        ,  0.        ],\n",
       "       [ 0.        ,  0.        ,  0.        ,  0.        ,  0.        ,\n",
       "         0.        ,  0.        ,  0.        ,  0.        ,  0.0106383 ,\n",
       "         0.00414938,  0.        ,  0.        ,  0.07142857,  0.07142857,\n",
       "         0.03846154,  0.09090909,  0.07692308,  0.        ,  0.        ],\n",
       "       [ 0.        ,  0.        ,  0.        ,  0.        ,  0.        ,\n",
       "         0.        ,  0.        ,  0.        ,  0.        ,  0.        ,\n",
       "         0.        ,  0.        ,  0.        ,  0.        ,  0.        ,\n",
       "         0.        ,  0.        ,  0.        ,  0.        ,  0.        ],\n",
       "       [ 0.        ,  0.        ,  0.        ,  0.        ,  0.        ,\n",
       "         0.        ,  0.        ,  0.        ,  0.        ,  0.0106383 ,\n",
       "         0.00414938,  0.        ,  0.        ,  0.07142857,  0.07142857,\n",
       "         0.03846154,  0.09090909,  0.07692308,  0.        ,  0.        ]])"
      ]
     },
     "execution_count": 101,
     "metadata": {},
     "output_type": "execute_result"
    }
   ],
   "source": [
    "wtm[10:30,10:30]"
   ]
  },
  {
   "cell_type": "code",
   "execution_count": 116,
   "metadata": {
    "collapsed": false,
    "deletable": true,
    "editable": true
   },
   "outputs": [
    {
     "data": {
      "text/html": [
       "<div>\n",
       "<table border=\"1\" class=\"dataframe\">\n",
       "  <thead>\n",
       "    <tr style=\"text-align: right;\">\n",
       "      <th></th>\n",
       "      <th>id</th>\n",
       "      <th>p_rank</th>\n",
       "    </tr>\n",
       "  </thead>\n",
       "  <tbody>\n",
       "    <tr>\n",
       "      <th>0</th>\n",
       "      <td>0</td>\n",
       "      <td>224.702638</td>\n",
       "    </tr>\n",
       "    <tr>\n",
       "      <th>1973</th>\n",
       "      <td>1973</td>\n",
       "      <td>189.250314</td>\n",
       "    </tr>\n",
       "    <tr>\n",
       "      <th>1790</th>\n",
       "      <td>1790</td>\n",
       "      <td>53.438593</td>\n",
       "    </tr>\n",
       "    <tr>\n",
       "      <th>1828</th>\n",
       "      <td>1828</td>\n",
       "      <td>50.954873</td>\n",
       "    </tr>\n",
       "    <tr>\n",
       "      <th>1</th>\n",
       "      <td>1</td>\n",
       "      <td>27.975911</td>\n",
       "    </tr>\n",
       "    <tr>\n",
       "      <th>238</th>\n",
       "      <td>238</td>\n",
       "      <td>26.779136</td>\n",
       "    </tr>\n",
       "    <tr>\n",
       "      <th>140</th>\n",
       "      <td>140</td>\n",
       "      <td>23.520898</td>\n",
       "    </tr>\n",
       "    <tr>\n",
       "      <th>14</th>\n",
       "      <td>14</td>\n",
       "      <td>22.232264</td>\n",
       "    </tr>\n",
       "    <tr>\n",
       "      <th>16</th>\n",
       "      <td>16</td>\n",
       "      <td>21.591054</td>\n",
       "    </tr>\n",
       "  </tbody>\n",
       "</table>\n",
       "</div>"
      ],
      "text/plain": [
       "        id      p_rank\n",
       "0        0  224.702638\n",
       "1973  1973  189.250314\n",
       "1790  1790   53.438593\n",
       "1828  1828   50.954873\n",
       "1        1   27.975911\n",
       "238    238   26.779136\n",
       "140    140   23.520898\n",
       "14      14   22.232264\n",
       "16      16   21.591054"
      ]
     },
     "execution_count": 116,
     "metadata": {},
     "output_type": "execute_result"
    }
   ],
   "source": [
    "pagerank(wtm, 0.85, 15)"
   ]
  }
 ],
 "metadata": {
  "kernelspec": {
   "display_name": "Python 3",
   "language": "python",
   "name": "python3"
  },
  "language_info": {
   "codemirror_mode": {
    "name": "ipython",
    "version": 3
   },
   "file_extension": ".py",
   "mimetype": "text/x-python",
   "name": "python",
   "nbconvert_exporter": "python",
   "pygments_lexer": "ipython3",
   "version": "3.5.2"
  }
 },
 "nbformat": 4,
 "nbformat_minor": 2
}
